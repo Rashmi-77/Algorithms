{
 "cells": [
  {
   "cell_type": "markdown",
   "metadata": {},
   "source": [
    "# In First But Second\n",
    "Given two arrays A and B of positive integers. Your task is to find numbers which are present in the first array, but not present in the second array.\n",
    "\n"
   ]
  },
  {
   "cell_type": "code",
   "execution_count": 3,
   "metadata": {},
   "outputs": [
    {
     "name": "stdout",
     "output_type": "stream",
     "text": [
      "5  \n",
      "5 2  \n"
     ]
    }
   ],
   "source": [
    "def first_not_second_1(M,N,a1,a2):\n",
    "\n",
    "    count = dict()\n",
    "    \n",
    "    for i in range(N):\n",
    "        count[a2[i]] = 1\n",
    "\n",
    "    for i in range(M):\n",
    "        if a1[i] not in count.keys():\n",
    "            print(a1[i],end = \" \")\n",
    "    print(\" \")\n",
    "\n",
    "M = 5\n",
    "N = 5 \n",
    "\n",
    "a1= [4, 3, 5, 9, 11]\n",
    "a2=[4, 9, 3, 11, 10]\n",
    "\n",
    "first_not_second_1(M,N,a1,a2)\n",
    "\n",
    "\n",
    "M = 7\n",
    "N = 5 \n",
    "\n",
    "a1= [4, 3, 5, 9, 11,2,9]\n",
    "\n",
    "a2=[4, 9, 3, 11, 10]\n",
    "\n",
    "first_not_second_1(M,N,a1,a2)\n",
    "\n"
   ]
  },
  {
   "cell_type": "code",
   "execution_count": null,
   "metadata": {},
   "outputs": [],
   "source": []
  }
 ],
 "metadata": {
  "kernelspec": {
   "display_name": "Python 3",
   "language": "python",
   "name": "python3"
  },
  "language_info": {
   "codemirror_mode": {
    "name": "ipython",
    "version": 3
   },
   "file_extension": ".py",
   "mimetype": "text/x-python",
   "name": "python",
   "nbconvert_exporter": "python",
   "pygments_lexer": "ipython3",
   "version": "3.7.0"
  }
 },
 "nbformat": 4,
 "nbformat_minor": 2
}
