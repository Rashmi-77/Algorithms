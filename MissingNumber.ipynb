{
 "cells": [
  {
   "cell_type": "markdown",
   "metadata": {},
   "source": [
    "# Missing Number\n",
    "Given an array containing n distinct numbers taken from 0, 1, 2, ..., n, find the one that is missing from the array.\n",
    "\n",
    "Example 1:\n",
    "\n",
    "    Input: [3,0,1]\n",
    "\n",
    "    Output: 2\n",
    "\n",
    "Example 2:\n",
    "\n",
    "    Input: [9,6,4,2,3,5,7,0,1]\n",
    "\n",
    "    Output: 8"
   ]
  },
  {
   "cell_type": "code",
   "execution_count": 1,
   "metadata": {},
   "outputs": [
    {
     "name": "stdout",
     "output_type": "stream",
     "text": [
      "8\n",
      "2\n"
     ]
    }
   ],
   "source": [
    "def missingNumber(nums):\n",
    "    s = sum(nums)\n",
    "    l = len(nums)\n",
    "        \n",
    "    total = l * (l +1)/2\n",
    "        \n",
    "    return int(total-s)\n",
    "\n",
    "nums = [9,6,4,2,3,5,7,0,1]\n",
    "print(missingNumber(nums))\n",
    "\n",
    "nums = [3,0,1]\n",
    "print(missingNumber(nums))\n"
   ]
  },
  {
   "cell_type": "code",
   "execution_count": null,
   "metadata": {},
   "outputs": [],
   "source": []
  }
 ],
 "metadata": {
  "kernelspec": {
   "display_name": "Python 3",
   "language": "python",
   "name": "python3"
  },
  "language_info": {
   "codemirror_mode": {
    "name": "ipython",
    "version": 3
   },
   "file_extension": ".py",
   "mimetype": "text/x-python",
   "name": "python",
   "nbconvert_exporter": "python",
   "pygments_lexer": "ipython3",
   "version": "3.7.0"
  }
 },
 "nbformat": 4,
 "nbformat_minor": 2
}
