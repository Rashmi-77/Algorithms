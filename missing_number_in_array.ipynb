{
 "cells": [
  {
   "cell_type": "markdown",
   "metadata": {},
   "source": [
    "# Missing number in array\n",
    "Given an array C of size N-1 and given that there are numbers from 1 to N with one element missing, the missing number is to be found."
   ]
  },
  {
   "cell_type": "code",
   "execution_count": 2,
   "metadata": {},
   "outputs": [
    {
     "name": "stdout",
     "output_type": "stream",
     "text": [
      "4\n",
      "9\n"
     ]
    }
   ],
   "source": [
    "def missing_number_in_array(N,a):\n",
    "    \n",
    "    sum_o= sum(a)\n",
    "    sum_i = N * (N+1 )//2\n",
    "\n",
    "    return(sum_i - sum_o)\n",
    "\n",
    "\n",
    "N = 5\n",
    "a = [1,2,3,5]\n",
    "print(missing_number_in_array(N,a))\n",
    "\n",
    "N = 10\n",
    "a = [1, 2, 3, 4, 5, 6, 7, 8, 10]\n",
    "print(missing_number_in_array(N,a))\n"
   ]
  },
  {
   "cell_type": "code",
   "execution_count": null,
   "metadata": {},
   "outputs": [],
   "source": []
  }
 ],
 "metadata": {
  "kernelspec": {
   "display_name": "Python 3",
   "language": "python",
   "name": "python3"
  },
  "language_info": {
   "codemirror_mode": {
    "name": "ipython",
    "version": 3
   },
   "file_extension": ".py",
   "mimetype": "text/x-python",
   "name": "python",
   "nbconvert_exporter": "python",
   "pygments_lexer": "ipython3",
   "version": "3.7.0"
  }
 },
 "nbformat": 4,
 "nbformat_minor": 2
}
