{
 "cells": [
  {
   "cell_type": "markdown",
   "metadata": {},
   "source": [
    "#  Student Attendance Record I\n",
    "You are given a string representing an attendance record for a student. The record only contains the following three characters:\n",
    "\n",
    "'A' : Absent.\n",
    "'L' : Late.\n",
    "'P' : Present.\n",
    "A student could be rewarded if his attendance record doesn't contain more than one 'A' (absent) or more than two continuous 'L' (late).\n",
    "\n",
    "You need to return whether the student could be rewarded according to his attendance record.\n",
    "\n",
    "Example 1:\n",
    "\n",
    "Input: \"PPALLP\"\n",
    "\n",
    "Output: True\n",
    "Example 2:\n",
    "\n",
    "Input: \"PPALLL\"\n",
    "\n",
    "Output: False"
   ]
  },
  {
   "cell_type": "code",
   "execution_count": null,
   "metadata": {},
   "outputs": [],
   "source": [
    "def checkRecord(s):\n",
    "    \n",
    "    l = len(s)\n",
    "    absent = 0\n",
    "\n",
    "    for i in range(l):\n",
    "                \n",
    "        if s[i] == 'A':\n",
    "            absent+=1\n",
    "        \n",
    "        if (absent==2):\n",
    "            return False\n",
    "\n",
    "        if s[i] == 'L':\n",
    "            if (i+2 < l) and s[i+1] == 'L' and s[i+2] =='L':\n",
    "                return False\n",
    "        \n",
    "    return True\n",
    "\n",
    "s = \"PPALLP\"\n",
    "s = \"LPPALLL\"\n",
    "print(checkRecord(s))    "
   ]
  }
 ],
 "metadata": {
  "kernelspec": {
   "display_name": "Python 3",
   "language": "python",
   "name": "python3"
  },
  "language_info": {
   "codemirror_mode": {
    "name": "ipython",
    "version": 3
   },
   "file_extension": ".py",
   "mimetype": "text/x-python",
   "name": "python",
   "nbconvert_exporter": "python",
   "pygments_lexer": "ipython3",
   "version": "3.7.0"
  }
 },
 "nbformat": 4,
 "nbformat_minor": 2
}
