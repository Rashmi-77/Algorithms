{
 "cells": [
  {
   "cell_type": "markdown",
   "metadata": {},
   "source": [
    "# Sort an array of 0s, 1s and 2s\n",
    "Given an array A of size N containing 0s, 1s, and 2s; you need to sort the array in ascending order.\n",
    "\n",
    "Input: \n",
    "    \n",
    "    The size of the array and the elements of the array\n",
    "\n",
    "Output: \n",
    "    \n",
    "    For each testcase, print the sorted array."
   ]
  },
  {
   "cell_type": "code",
   "execution_count": 5,
   "metadata": {},
   "outputs": [
    {
     "name": "stdout",
     "output_type": "stream",
     "text": [
      "[0, 1, 1, 2]\n",
      "[0, 0, 1, 1, 2, 2]\n"
     ]
    }
   ],
   "source": [
    "def sort_zeros_ones_two(N,array):\n",
    "\n",
    "    low = 0\n",
    "    mid = 0\n",
    "    \n",
    "    high = N - 1\n",
    "    \n",
    "    while(mid <= high):\n",
    "                \n",
    "        if array[mid] == 0:\n",
    "            array[mid], array[low] = array[low],array[mid]\n",
    "                \n",
    "            low +=  1\n",
    "            mid +=  1\n",
    "                \n",
    "        elif array[mid] == 2:\n",
    "            array[mid] , array[high] = array[high],array[mid]\n",
    "                \n",
    "            high-= 1\n",
    "                \n",
    "        else:\n",
    "            mid += 1\n",
    "            \n",
    "    return array\n",
    "\n",
    "N = 4\n",
    "array = [2, 0, 1, 1]\n",
    "\n",
    "print(sort_zeros_ones_two(N,array))\n",
    "\n",
    "\n",
    "N = 6\n",
    "array = [2, 0, 1, 0, 2, 1]\n",
    "\n",
    "print(sort_zeros_ones_two(N,array))"
   ]
  },
  {
   "cell_type": "code",
   "execution_count": null,
   "metadata": {},
   "outputs": [],
   "source": []
  }
 ],
 "metadata": {
  "kernelspec": {
   "display_name": "Python 3",
   "language": "python",
   "name": "python3"
  },
  "language_info": {
   "codemirror_mode": {
    "name": "ipython",
    "version": 3
   },
   "file_extension": ".py",
   "mimetype": "text/x-python",
   "name": "python",
   "nbconvert_exporter": "python",
   "pygments_lexer": "ipython3",
   "version": "3.7.0"
  }
 },
 "nbformat": 4,
 "nbformat_minor": 2
}
