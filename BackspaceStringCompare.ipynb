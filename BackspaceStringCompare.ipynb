{
 "cells": [
  {
   "cell_type": "markdown",
   "metadata": {},
   "source": [
    "# Backspace String Compare\n",
    "Given two strings S and T, return if they are equal when both are typed into empty text editors. # means a backspace character.\n",
    "\n",
    "Example 1:\n",
    "\n",
    "Input: S = \"ab#c\", T = \"ad#c\"\n",
    "Output: true\n",
    "Explanation: Both S and T become \"ac\".\n",
    "\n",
    "Example 2:\n",
    "\n",
    "Input: S = \"ab##\", T = \"c#d#\"\n",
    "Output: true\n",
    "Explanation: Both S and T become \"\".\n",
    "\n",
    "Example 3:\n",
    "\n",
    "Input: S = \"a##c\", T = \"#a#c\"\n",
    "Output: true\n",
    "Explanation: Both S and T become \"c\".\n",
    "\n",
    "Example 4:\n",
    "\n",
    "Input: S = \"a#c\", T = \"b\"\n",
    "Output: false\n",
    "Explanation: S becomes \"c\" while T becomes \"b\"."
   ]
  },
  {
   "cell_type": "code",
   "execution_count": 1,
   "metadata": {},
   "outputs": [
    {
     "name": "stdout",
     "output_type": "stream",
     "text": [
      "True\n",
      "False\n",
      "True\n",
      "True\n"
     ]
    }
   ],
   "source": [
    "def removeChar(s):\n",
    "    new_list = []\n",
    "    for i in s:        \n",
    "        if i == '#':\n",
    "            new_list = new_list[:-1]\n",
    "        else:\n",
    "            new_list.append(i)\n",
    "            \n",
    "    return (''.join(new_list))\n",
    "\n",
    "S = \"#ab#c\"\n",
    "T = \"ad#c\"\n",
    "print(removeChar(S) == removeChar(T))\n",
    "\n",
    "S = \"a#c\"\n",
    "T = \"b\"\n",
    "print(removeChar(S) == removeChar(T))\n",
    "\n",
    "S = \"a##c\"\n",
    "T = \"#a#c\"\n",
    "print(removeChar(S) == removeChar(T))\n",
    "\n",
    "S = \"ab##\"\n",
    "T = \"c#d#\"\n",
    "print(removeChar(S) == removeChar(T))"
   ]
  },
  {
   "cell_type": "code",
   "execution_count": null,
   "metadata": {},
   "outputs": [],
   "source": []
  }
 ],
 "metadata": {
  "kernelspec": {
   "display_name": "Python 3",
   "language": "python",
   "name": "python3"
  },
  "language_info": {
   "codemirror_mode": {
    "name": "ipython",
    "version": 3
   },
   "file_extension": ".py",
   "mimetype": "text/x-python",
   "name": "python",
   "nbconvert_exporter": "python",
   "pygments_lexer": "ipython3",
   "version": "3.7.0"
  }
 },
 "nbformat": 4,
 "nbformat_minor": 2
}
