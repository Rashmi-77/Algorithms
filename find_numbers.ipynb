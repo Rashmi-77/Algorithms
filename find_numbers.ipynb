{
 "cells": [
  {
   "cell_type": "markdown",
   "metadata": {},
   "source": [
    "# Finding the numbers\n",
    "You are given an array A containing 2N+2 positive numbers, out of which 2N numbers exist in pairs whereas the other two number occur exactly once and are distinct. You need to find the other two numbers and print them in ascending order."
   ]
  },
  {
   "cell_type": "code",
   "execution_count": 4,
   "metadata": {},
   "outputs": [
    {
     "name": "stdout",
     "output_type": "stream",
     "text": [
      "[3, 4]\n",
      "[1, 3]\n",
      "[63, 80]\n",
      "[18, 100]\n"
     ]
    }
   ],
   "source": [
    "def find_numbers(N,array):\n",
    "    \n",
    "    n = len(array) - N*2 \n",
    "\n",
    "    pairs = dict()\n",
    "\n",
    "    for i in array:\n",
    "        if i not in pairs:\n",
    "            pairs[i] =1\n",
    "        else:\n",
    "            del pairs[i]\n",
    "\n",
    "    nums = [n for n in pairs.keys()]\n",
    "    \n",
    "    nums.sort()\n",
    "    return (nums)\n",
    "\n",
    "\n",
    "N = 2\n",
    "array = [1, 2, 3, 2, 1, 4]\n",
    "print(find_numbers(N,array))\n",
    "\n",
    "N= 1\n",
    "array = [2, 1, 3, 2]\n",
    "print(find_numbers(N,array))\n",
    "\n",
    "N = 9\n",
    "array = [87, 87, 78, 78, 16, 16, 94, 94, 36, 36, 87, 87, 93, 93, 50, 50, 22, 22, 80, 63]\n",
    "print(find_numbers(N,array))\n",
    "\n",
    "N = 21\n",
    "array = [35, 35, 79, 79, 68, 68, 2, 2, 98, 98, 3, 3, 18, 18, 93, 93, 53, 53, 57 ,57 ,2 ,2 ,81 ,81 ,87 ,87 ,42 ,42 ,66 ,66 ,90 ,90 ,45 ,45 ,20 ,20 ,41 ,41 ,30 ,30 ,32 ,32 ,100 ,18]\n",
    "print(find_numbers(N,array))\n",
    "    "
   ]
  }
 ],
 "metadata": {
  "kernelspec": {
   "display_name": "Python 3",
   "language": "python",
   "name": "python3"
  },
  "language_info": {
   "codemirror_mode": {
    "name": "ipython",
    "version": 3
   },
   "file_extension": ".py",
   "mimetype": "text/x-python",
   "name": "python",
   "nbconvert_exporter": "python",
   "pygments_lexer": "ipython3",
   "version": "3.7.0"
  }
 },
 "nbformat": 4,
 "nbformat_minor": 2
}
