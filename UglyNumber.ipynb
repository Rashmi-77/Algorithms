{
 "cells": [
  {
   "cell_type": "markdown",
   "metadata": {},
   "source": [
    "# Ugly Number\n",
    "\n",
    "Write a program to check whether a given number is an ugly number.\n",
    "\n",
    "Ugly numbers are positive numbers whose prime factors only include 2, 3, 5.\n",
    "\n",
    "Example 1:\n",
    "\n",
    "Input: 6\n",
    "Output: true\n",
    "Explanation: 6 = 2 × 3\n",
    "\n",
    "Example 2:\n",
    "\n",
    "Input: 8\n",
    "Output: true\n",
    "Explanation: 8 = 2 × 2 × 2\n",
    "\n",
    "Example 3:\n",
    "\n",
    "Input: 14\n",
    "Output: false \n",
    "Explanation: 14 is not ugly since it includes another prime factor 7."
   ]
  },
  {
   "cell_type": "code",
   "execution_count": 1,
   "metadata": {},
   "outputs": [
    {
     "name": "stdout",
     "output_type": "stream",
     "text": [
      "False\n",
      "False\n",
      "True\n"
     ]
    }
   ],
   "source": [
    "def uglyNumber(n):\n",
    "\n",
    "    prime_factors = [5,3,2]\n",
    "\n",
    "    if n ==0:\n",
    "        return(\"False\")\n",
    "    \n",
    "    for x in prime_factors:\n",
    "        while (n % x == 0):\n",
    "            n /=x\n",
    "\n",
    "    return (n==1)\n",
    "\n",
    "n = 1433\n",
    "print(uglyNumber(n))\n",
    "\n",
    "n = 14\n",
    "print(uglyNumber(n))\n",
    "\n",
    "n = 8\n",
    "print(uglyNumber(n))\n"
   ]
  },
  {
   "cell_type": "code",
   "execution_count": null,
   "metadata": {},
   "outputs": [],
   "source": []
  }
 ],
 "metadata": {
  "kernelspec": {
   "display_name": "Python 3",
   "language": "python",
   "name": "python3"
  },
  "language_info": {
   "codemirror_mode": {
    "name": "ipython",
    "version": 3
   },
   "file_extension": ".py",
   "mimetype": "text/x-python",
   "name": "python",
   "nbconvert_exporter": "python",
   "pygments_lexer": "ipython3",
   "version": "3.7.0"
  }
 },
 "nbformat": 4,
 "nbformat_minor": 2
}
