{
 "cells": [
  {
   "cell_type": "markdown",
   "metadata": {},
   "source": [
    "# Happy Number\n",
    "Write an algorithm to determine if a number is \"happy\".\n",
    "\n",
    "A happy number is a number defined by the following process: Starting with any positive integer, replace the number by the sum of the squares of its digits, and repeat the process until the number equals 1 (where it will stay), or it loops endlessly in a cycle which does not include 1. Those numbers for which this process ends in 1 are happy numbers.\n",
    "\n",
    "Example:\n",
    "\n",
    "Input: 19\n",
    "Output: true\n",
    "Explanation: \n",
    "\n",
    "    12 + 92 = 82\n",
    "    82 + 22 = 68\n",
    "    62 + 82 = 100\n",
    "    12 + 02 + 02 = 1"
   ]
  },
  {
   "cell_type": "code",
   "execution_count": 2,
   "metadata": {},
   "outputs": [
    {
     "name": "stdout",
     "output_type": "stream",
     "text": [
      "Happy Number\n",
      "Not a Happy Number\n"
     ]
    }
   ],
   "source": [
    "def happyNumber(n):\n",
    "    visited = set()\n",
    "\n",
    "    while(n != 1):\n",
    "        n = sum([int(a)**2 for a in str(n)])\n",
    "\n",
    "        if n in visited:\n",
    "            return (\"Not a Happy Number\")\n",
    "            break\n",
    "        else:\n",
    "            visited.add(n)\n",
    "    else:\n",
    "        return (\"Happy Number\")\n",
    "\n",
    "n = 192\n",
    "print(happyNumber(n))\n",
    "\n",
    "n = 181\n",
    "print(happyNumber(n))"
   ]
  },
  {
   "cell_type": "code",
   "execution_count": null,
   "metadata": {},
   "outputs": [],
   "source": []
  }
 ],
 "metadata": {
  "kernelspec": {
   "display_name": "Python 3",
   "language": "python",
   "name": "python3"
  },
  "language_info": {
   "codemirror_mode": {
    "name": "ipython",
    "version": 3
   },
   "file_extension": ".py",
   "mimetype": "text/x-python",
   "name": "python",
   "nbconvert_exporter": "python",
   "pygments_lexer": "ipython3",
   "version": "3.7.0"
  }
 },
 "nbformat": 4,
 "nbformat_minor": 2
}
